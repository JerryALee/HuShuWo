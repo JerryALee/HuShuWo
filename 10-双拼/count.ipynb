{
 "cells": [
  {
   "cell_type": "code",
   "execution_count": 1,
   "metadata": {},
   "outputs": [],
   "source": [
    "import numpy as np"
   ]
  },
  {
   "cell_type": "code",
   "execution_count": 10,
   "metadata": {},
   "outputs": [],
   "source": [
    "name = \"pinyin\"\n",
    "with open(name + '.txt', 'r', encoding='UTF-8') as f:\n",
    "    rawdata = f.readlines()\n",
    "\n",
    "length = len(rawdata)\n",
    "for i in range(length):\n",
    "    rawdata[i] = rawdata[i].strip('\\n')"
   ]
  },
  {
   "cell_type": "code",
   "execution_count": 17,
   "metadata": {},
   "outputs": [],
   "source": [
    "length_1 = 0\n",
    "length_2 = 0\n",
    "length_3 = 0\n",
    "length_4 = 0\n",
    "length_5 = 0\n",
    "length_6 = 0\n",
    "for i in rawdata:\n",
    "    pinyin_length = len(i)\n",
    "    if pinyin_length == 1:\n",
    "        length_1 += 1\n",
    "    elif pinyin_length == 2:\n",
    "        length_2 += 1\n",
    "    elif pinyin_length == 3:\n",
    "        length_3 += 1\n",
    "    elif pinyin_length == 4:\n",
    "        length_4 += 1\n",
    "    elif pinyin_length == 5:\n",
    "        length_5 += 1\n",
    "    else:\n",
    "        length_6 += 1"
   ]
  },
  {
   "cell_type": "code",
   "execution_count": 18,
   "metadata": {
    "tags": []
   },
   "outputs": [
    {
     "output_type": "stream",
     "name": "stdout",
     "text": "3 79 176 124 25 4\n"
    }
   ],
   "source": [
    "print(length_1, length_2, length_3, length_4, length_5, length_6)"
   ]
  },
  {
   "cell_type": "code",
   "execution_count": 23,
   "metadata": {
    "tags": []
   },
   "outputs": [
    {
     "output_type": "stream",
     "name": "stdout",
     "text": "3.2457420924574207\n"
    }
   ],
   "source": [
    "average = (1*length_1 + 2*length_2 + 3*length_3 + 4*length_4 + 5*length_5 + 6*length_6)/411\n",
    "print(average)"
   ]
  },
  {
   "cell_type": "code",
   "execution_count": 24,
   "metadata": {},
   "outputs": [
    {
     "output_type": "execute_result",
     "data": {
      "text/plain": "0.6161919040479761"
     },
     "metadata": {},
     "execution_count": 24
    }
   ],
   "source": [
    "2/average"
   ]
  },
  {
   "cell_type": "code",
   "execution_count": null,
   "metadata": {},
   "outputs": [],
   "source": []
  }
 ],
 "metadata": {
  "language_info": {
   "codemirror_mode": {
    "name": "ipython",
    "version": 3
   },
   "file_extension": ".py",
   "mimetype": "text/x-python",
   "name": "python",
   "nbconvert_exporter": "python",
   "pygments_lexer": "ipython3",
   "version": 3
  },
  "orig_nbformat": 2,
  "kernelspec": {
   "name": "python_defaultSpec_1594909325272",
   "display_name": "Python 3.6.5 64-bit ('base': conda)"
  }
 },
 "nbformat": 4,
 "nbformat_minor": 2
}