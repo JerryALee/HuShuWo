{
 "cells": [
  {
   "cell_type": "code",
   "execution_count": 2,
   "metadata": {
    "ExecuteTime": {
     "end_time": "2020-05-04T13:53:28.532014Z",
     "start_time": "2020-05-04T13:53:26.151339Z"
    }
   },
   "outputs": [],
   "source": [
    "# 要引入的包\n",
    "\n",
    "import numpy as np\n",
    "from matplotlib import pyplot as plt\n",
    "import cv2\n",
    "from imutils.perspective import four_point_transform\n",
    "from PIL import Image, ImageDraw, ImageFont\n",
    "\n",
    "# %matplotlib inline\n",
    "# %config InlineBackend.figure_format = 'svg'"
   ]
  },
  {
   "cell_type": "code",
   "execution_count": 3,
   "metadata": {},
   "outputs": [],
   "source": [
    "# 定义一坨函数\n",
    "\n",
    "def cvImread(file_path):\n",
    "    cv_img = cv2.imdecode(np.fromfile(file_path, dtype=np.uint8), -1)\n",
    "    return cv_img\n",
    "    \n",
    "def cvImsave(img, file_path, img_type):\n",
    "    cv2.imencode(img_type, img)[1].tofile(file_path)\n",
    "\n",
    "def showImage(img):\n",
    "    cv2.namedWindow(\"Test\", cv2.WINDOW_NORMAL)\n",
    "    cv2.imshow(\"Test\", img)\n",
    "    cv2.waitKey()\n",
    "    k = cv2.waitKey()\n",
    "    if k == 27:\n",
    "        cv2.destroyAllWindows()\n",
    "\n",
    "def binaryPreprocess(img):\n",
    "    img_gray = cv2.cvtColor(img, cv2.COLOR_RGBA2GRAY)\n",
    "    blur = cv2.GaussianBlur(img_gray, (5, 5), 0)\n",
    "    ret, th = cv2.threshold(blur, 0, 255, cv2.THRESH_BINARY + cv2.THRESH_OTSU)\n",
    "    return th\n",
    "\n",
    "def cutEdge(img_binary):\n",
    "    top = 0\n",
    "    bottom = -1\n",
    "    left = 0\n",
    "    right = -1\n",
    "    while True:\n",
    "        if np.mean(img_binary[top, :]) < 128:\n",
    "            top += 1\n",
    "        else:\n",
    "            break\n",
    "    while True:\n",
    "        if np.mean(img_binary[bottom, :]) < 128:\n",
    "            bottom -= 1\n",
    "        else:\n",
    "            break\n",
    "    while True:\n",
    "        if np.mean(img_binary[:, left]) < 128:\n",
    "            left += 1\n",
    "        else:\n",
    "            break\n",
    "    while True:\n",
    "        if np.mean(img_binary[:, right]) < 128:\n",
    "            right -= 1\n",
    "        else:\n",
    "            break\n",
    "    \n",
    "    img_binary = img_binary[top:, left:]\n",
    "    if bottom != -1:\n",
    "        img_binary = img_binary[:bottom + 1, :]\n",
    "    if right != -1:\n",
    "        img_binary = img_binary[:, :right + 1]\n",
    "\n",
    "    row, column = np.shape(img_binary)\n",
    "    white_width_row = np.int(row * 0.01)\n",
    "    white_width_column = np.int(column * 0.01)\n",
    "    img_binary[:white_width_row, :] = 255\n",
    "    img_binary[-white_width_row:, :] = 255\n",
    "    img_binary[:, :white_width_column] = 255\n",
    "    img_binary[:, -white_width_column:] = 255\n",
    "    \n",
    "    return img_binary\n",
    "\n",
    "def paint_chinese_opencv(im, chinese, pos, color):\n",
    "    img_PIL = Image.fromarray(cv2.cvtColor(im, cv2.COLOR_BGR2RGB))\n",
    "    myfont = ImageFont.truetype('‪C:\\\\Windows\\\\Fonts\\\\msyhbd.ttc', 96)\n",
    "    fill_color = color\n",
    "    position = pos\n",
    "    if not isinstance(chinese, str):\n",
    "        chinese = chinese.decode('utf-8')\n",
    "        draw = ImageDraw.Draw(img_PIL)\n",
    "        draw.text(position, chinese, font=myfont, fill=fill_color)\n",
    "        im = cv2.cvtColor(np.asarray(img_PIL), cv2.COLOR_RGB2BGR)\n",
    "    return im\n",
    "\n",
    "def compLeafArea(img_file_list, area_of_the_background, num_of_leaves):\n",
    "    for img_file in img_file_list:\n",
    "        img = cvImread('./胡海瑶的叶子们/' + img_file + '.jpg')\n",
    "        img_binary = binaryPreprocess(img)\n",
    "        img_cut = cutEdge(img_binary)\n",
    "        contours, hier = cv2.findContours(img_cut, cv2.RETR_LIST, cv2.CHAIN_APPROX_NONE)\n",
    "        contours.sort(key = cv2.contourArea, reverse=True)\n",
    "        for i in range(1, 1 + num_of_leaves):\n",
    "            c = contours[i]\n",
    "            area_prop = cv2.contourArea(c)/np.size(img_cut)\n",
    "            rect = cv2.minAreaRect(c) # 计算出包围目标的最小区域\n",
    "            box = cv2.boxPoints(rect) # 计算最小面积矩形的坐标\n",
    "            box = np.int0(box) # 坐标归一化为整型\n",
    "            leaf_position = np.int0((box[0] + box[2])/2)\n",
    "            cv2.putText(img, str(np.round(area_prop * area_of_the_background, 4)), tuple(leaf_position), cv2.FONT_HERSHEY_SIMPLEX, 2.5, (161, 0, 116), 5)\n",
    "        # showImage(img)\n",
    "        cvImsave(img, './area/' + img_file + '.jpg', '.jpg')"
   ]
  },
  {
   "cell_type": "code",
   "execution_count": 70,
   "metadata": {
    "tags": []
   },
   "outputs": [],
   "source": [
    "# 运行这里开始识别\n",
    "\n",
    "img_file_list = ['桂树1', '桂树2', '桂树3', '桂树4', '桂树5',\\\n",
    "    '银杏1', '银杏2', '银杏3', '银杏4', '银杏5',\\\n",
    "        '紫薇1', '紫薇2', '紫薇3', '紫薇4', '紫薇5']\n",
    "compLeafArea(img_file_list, 400, 4)\n",
    "\n",
    "img_file_list = ['垂柳1', '垂柳2', '垂柳3', '垂柳4']\n",
    "compLeafArea(img_file_list, 400, 1)"
   ]
  }
 ],
 "metadata": {
  "kernelspec": {
   "display_name": "Python 3",
   "language": "python",
   "name": "python3"
  },
  "language_info": {
   "codemirror_mode": {
    "name": "ipython",
    "version": 3
   },
   "file_extension": ".py",
   "mimetype": "text/x-python",
   "name": "python",
   "nbconvert_exporter": "python",
   "pygments_lexer": "ipython3",
   "version": "3.6.5-final"
  },
  "varInspector": {
   "cols": {
    "lenName": 16,
    "lenType": 16,
    "lenVar": 40
   },
   "kernels_config": {
    "python": {
     "delete_cmd_postfix": "",
     "delete_cmd_prefix": "del ",
     "library": "var_list.py",
     "varRefreshCmd": "print(var_dic_list())"
    },
    "r": {
     "delete_cmd_postfix": ") ",
     "delete_cmd_prefix": "rm(",
     "library": "var_list.r",
     "varRefreshCmd": "cat(var_dic_list()) "
    }
   },
   "types_to_exclude": [
    "module",
    "function",
    "builtin_function_or_method",
    "instance",
    "_Feature"
   ],
   "window_display": false
  }
 },
 "nbformat": 4,
 "nbformat_minor": 2
}