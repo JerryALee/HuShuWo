{
 "metadata": {
  "language_info": {
   "codemirror_mode": {
    "name": "ipython",
    "version": 3
   },
   "file_extension": ".py",
   "mimetype": "text/x-python",
   "name": "python",
   "nbconvert_exporter": "python",
   "pygments_lexer": "ipython3",
   "version": "3.8.5"
  },
  "orig_nbformat": 2,
  "kernelspec": {
   "name": "python385jvsc74a57bd00ea6e4fb00f22a3acb12dfd4c54c0c7ffee114eaeacfa32f735d60ceb6117c20",
   "display_name": "Python 3.8.5 64-bit ('base': conda)"
  }
 },
 "nbformat": 4,
 "nbformat_minor": 2,
 "cells": [
  {
   "cell_type": "code",
   "execution_count": 1,
   "metadata": {},
   "outputs": [],
   "source": [
    "import numpy as np"
   ]
  },
  {
   "cell_type": "code",
   "execution_count": 30,
   "metadata": {},
   "outputs": [],
   "source": [
    "def method2(n):\n",
    "    result = np.empty(n, dtype=int)\n",
    "    result[0] = 0\n",
    "    result[1] = 1\n",
    "    for i in range(2, n):\n",
    "        c = np.array([np.math.comb(i+1, k) for k in range(i, 0, -1)])\n",
    "        result[i] = np.math.factorial(i+1) - 1 - c @ result[:i]\n",
    "    return result"
   ]
  },
  {
   "cell_type": "code",
   "execution_count": 39,
   "metadata": {},
   "outputs": [],
   "source": [
    "def method3(n):\n",
    "    a = np.empty(n, dtype=int)\n",
    "    b = np.empty(n, dtype=int)\n",
    "    a[0] = 0\n",
    "    a[1] = 1\n",
    "    a[2] = 2\n",
    "    b[0] = 0\n",
    "    b[1] = 0\n",
    "    b[2] = 1\n",
    "    for i in range(3, n):\n",
    "        b[i] = a[i-2] + (i-1) * b[i-1]\n",
    "        a[i] = i * b[i]\n",
    "    return a, b"
   ]
  },
  {
   "cell_type": "code",
   "execution_count": 42,
   "metadata": {},
   "outputs": [
    {
     "output_type": "stream",
     "name": "stdout",
     "text": [
      "a_n: [        0         1         2         9        44       265      1854\n     14833    133496   1334961  14684570 176214841]\n"
     ]
    }
   ],
   "source": [
    "print(f'a_n: {method2(12)}')"
   ]
  },
  {
   "cell_type": "code",
   "execution_count": 43,
   "metadata": {},
   "outputs": [
    {
     "output_type": "stream",
     "name": "stdout",
     "text": [
      "an: [        0         1         2         9        44       265      1854\n     14833    133496   1334961  14684570 176214841]\nbn: [       0        0        1        3       11       53      309     2119\n    16687   148329  1468457 16019531]\n"
     ]
    }
   ],
   "source": [
    "an, bn = method3(12)\n",
    "print(f'an: {an}\\nbn: {bn}')"
   ]
  },
  {
   "cell_type": "code",
   "execution_count": null,
   "metadata": {},
   "outputs": [],
   "source": []
  }
 ]
}